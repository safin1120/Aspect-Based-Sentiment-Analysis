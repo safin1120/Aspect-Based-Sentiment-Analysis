{
  "nbformat": 4,
  "nbformat_minor": 0,
  "metadata": {
    "colab": {
      "name": "bertviz_colab.ipynb",
      "provenance": [],
      "collapsed_sections": [],
      "include_colab_link": true
    },
    "kernelspec": {
      "name": "python3",
      "display_name": "Python 3"
    }
  },
  "cells": [
    {
      "cell_type": "markdown",
      "metadata": {
        "id": "view-in-github",
        "colab_type": "text"
      },
      "source": [
        "<a href=\"https://colab.research.google.com/github/safin1120/Aspect-Based-Sentiment-Analysis/blob/master/bertviz_colab.ipynb\" target=\"_parent\"><img src=\"https://colab.research.google.com/assets/colab-badge.svg\" alt=\"Open In Colab\"/></a>"
      ]
    },
    {
      "cell_type": "code",
      "metadata": {
        "id": "qT-1il_pCyag",
        "colab_type": "code",
        "colab": {}
      },
      "source": [
        "#\n",
        "#\n",
        "#\n",
        "# \n",
        "# IMPORTANT: Check https://github.com/jessevig/bertviz for latest version of Colab\n",
        "#\n",
        "#\n",
        "#\n",
        "#\n",
        "\n",
        "import sys\n",
        "!test -d bertviz_repo && echo \"FYI: bertviz_repo directory already exists, to pull latest version uncomment this line: !rm -r bertviz_repo\"\n",
        "# !rm -r bertviz_repo # Uncomment if you need a clean pull from repo\n",
        "!test -d bertviz_repo || git clone https://github.com/jessevig/bertviz bertviz_repo\n",
        "if not 'bertviz_repo' in sys.path:\n",
        "  sys.path += ['bertviz_repo']\n",
        "!pip install regex"
      ],
      "execution_count": 0,
      "outputs": []
    },
    {
      "cell_type": "code",
      "metadata": {
        "id": "-TAbJ-imDUiM",
        "colab_type": "code",
        "colab": {}
      },
      "source": [
        "from bertviz.pytorch_transformers_attn import BertModel, BertTokenizer\n",
        "from bertviz.head_view_bert import show"
      ],
      "execution_count": 0,
      "outputs": []
    },
    {
      "cell_type": "code",
      "metadata": {
        "id": "5mPzNN8rJtjg",
        "colab_type": "code",
        "colab": {}
      },
      "source": [
        "def call_html():\n",
        "  import IPython\n",
        "  display(IPython.core.display.HTML('''\n",
        "        <script src=\"/static/components/requirejs/require.js\"></script>\n",
        "        <script>\n",
        "          requirejs.config({\n",
        "            paths: {\n",
        "              base: '/static/base',\n",
        "              \"d3\": \"https://cdnjs.cloudflare.com/ajax/libs/d3/3.5.8/d3.min\",\n",
        "              jquery: '//ajax.googleapis.com/ajax/libs/jquery/2.0.0/jquery.min',\n",
        "            },\n",
        "          });\n",
        "        </script>\n",
        "        '''))"
      ],
      "execution_count": 0,
      "outputs": []
    },
    {
      "cell_type": "code",
      "metadata": {
        "id": "TgxUaXEoGl9D",
        "colab_type": "code",
        "outputId": "845bfc7c-61fe-43c2-a759-a1ddb6ca1fde",
        "colab": {
          "base_uri": "https://localhost:8080/",
          "height": 1000
        }
      },
      "source": [
        "bert_version = 'bert-base-uncased'\n",
        "do_lower_case = True\n",
        "model = BertModel.from_pretrained(bert_version)\n",
        "tokenizer = BertTokenizer.from_pretrained(bert_version, do_lower_case=do_lower_case)\n",
        "sentence_a = \"The cat sat on the mat\"\n",
        "sentence_b = \"The cat lay on the rug\"\n",
        "call_html()\n",
        "show(model, tokenizer, sentence_a, sentence_b)"
      ],
      "execution_count": 0,
      "outputs": []
    }
  ]
}